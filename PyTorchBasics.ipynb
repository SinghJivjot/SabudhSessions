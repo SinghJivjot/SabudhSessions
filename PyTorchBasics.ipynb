{
 "cells": [
  {
   "cell_type": "code",
   "execution_count": 1,
   "metadata": {},
   "outputs": [],
   "source": [
    "import torch"
   ]
  },
  {
   "cell_type": "code",
   "execution_count": 2,
   "metadata": {},
   "outputs": [],
   "source": [
    "t_c = [0.5, 14.0, 15.0, 28.0, 11.0, 8.0, 3.0,-4.0, 6.0, 13.0, 21.0]\n",
    "t_u = [35.7, 55.9, 58.2, 81.9, 56.3, 48.9, 33.9, 21.8, 48.4, 60.4, 68.4]\n",
    "t_c = torch.tensor(t_c)\n",
    "t_u = torch.tensor(t_u)"
   ]
  },
  {
   "cell_type": "markdown",
   "metadata": {},
   "source": [
    "$ t_c \\rightarrow \\text{Temperature in Celsius}$ \n",
    "\n",
    "$ t_u \\rightarrow \\text{Temperature in Unknown scale}$ "
   ]
  },
  {
   "cell_type": "code",
   "execution_count": 3,
   "metadata": {},
   "outputs": [],
   "source": [
    "from matplotlib import pyplot as plt"
   ]
  },
  {
   "cell_type": "code",
   "execution_count": 4,
   "metadata": {},
   "outputs": [
    {
     "data": {
      "image/png": "[encoded data removed]",
      "text/plain": [
       "<Figure size 600x400 with 1 Axes>"
      ]
     },
     "metadata": {},
     "output_type": "display_data"
    }
   ],
   "source": [
    "plt.figure(figsize=(6, 4))\n",
    "plt.scatter(t_u, t_c)\n",
    "plt.xlabel('Temperature (Unknown)')\n",
    "plt.ylabel('Temperature (Celsius)')\n",
    "plt.title('Scatter of $t_c$ vs $t_u$')\n",
    "plt.show()"
   ]
  },
  {
   "cell_type": "markdown",
   "metadata": {},
   "source": [
    "Assuming a Linear Model would explain the data\n",
    "$$ f_{w, b}(t_u) = w * t_u + b = t_p$$\n",
    "$ t_p \\rightarrow \\text{Temperature Predicted}$\n"
   ]
  },
  {
   "cell_type": "code",
   "execution_count": 5,
   "metadata": {},
   "outputs": [],
   "source": [
    "def model(t_u, w, b):\n",
    "    t_p = w * t_u + b\n",
    "    return t_p"
   ]
  },
  {
   "cell_type": "markdown",
   "metadata": {},
   "source": [
    "Using Mean Squared Loss Function for calculating the error\n",
    "$$ \\mathcal{L}(t_p, t_c) = \\frac{1}{n} \\sum_{i=1}^n (t_p - t_c)^2 $$\n",
    "$n \\rightarrow \\text{Number of Examples}$"
   ]
  },
  {
   "cell_type": "code",
   "execution_count": 6,
   "metadata": {},
   "outputs": [],
   "source": [
    "def loss_fn(t_p, t_c):\n",
    "    squared_diffs = (t_p - t_c)**2\n",
    "    mean_sq = squared_diffs.mean()\n",
    "    return mean_sq"
   ]
  },
  {
   "cell_type": "code",
   "execution_count": 7,
   "metadata": {},
   "outputs": [
    {
     "name": "stdout",
     "output_type": "stream",
     "text": [
      "Weights: tensor(1.)\n",
      "Bias: tensor(0.)\n"
     ]
    }
   ],
   "source": [
    "w = torch.ones(())\n",
    "b = torch.zeros(())\n",
    "\n",
    "print('Weights:', w)\n",
    "print('Bias:', b)"
   ]
  },
  {
   "cell_type": "code",
   "execution_count": 8,
   "metadata": {},
   "outputs": [
    {
     "name": "stdout",
     "output_type": "stream",
     "text": [
      "Predictions: tensor([35.7000, 55.9000, 58.2000, 81.9000, 56.3000, 48.9000, 33.9000, 21.8000,\n",
      "        48.4000, 60.4000, 68.4000])\n"
     ]
    }
   ],
   "source": [
    "t_p = model(t_u, w, b)\n",
    "\n",
    "print('Predictions:', t_p)"
   ]
  },
  {
   "cell_type": "code",
   "execution_count": 9,
   "metadata": {},
   "outputs": [
    {
     "name": "stdout",
     "output_type": "stream",
     "text": [
      "Loss Value: tensor(1763.8848)\n"
     ]
    }
   ],
   "source": [
    "loss = loss_fn(t_p, t_c)\n",
    "\n",
    "print('Loss Value:', loss)"
   ]
  },
  {
   "cell_type": "markdown",
   "metadata": {},
   "source": [
    "Derivative of Loss Function wrt the model parameters to find the Gradient\n",
    "$$ \\frac{d \\mathcal{L}}{d \\alpha_i} = \\frac{d \\mathcal{L}}{d t_p} \\frac{d t_p}{d \\alpha_i} $$\n",
    "$ \\mathcal{L} \\rightarrow \\text{Loss Function} $\n",
    "\n",
    "$ \\alpha_i \\rightarrow \\text{Model Parameters} $"
   ]
  },
  {
   "cell_type": "markdown",
   "metadata": {},
   "source": [
    "$$ \\frac{d \\mathcal{L}}{d t_p} = \\frac{1}{n} * 2 * (t_p - t_c) $$"
   ]
  },
  {
   "cell_type": "code",
   "execution_count": 10,
   "metadata": {},
   "outputs": [],
   "source": [
    "def dloss_fn(t_p, t_c):\n",
    "    derivative = 2 * (t_p - t_c) / t_p.shape[0]\n",
    "    return derivative"
   ]
  },
  {
   "cell_type": "markdown",
   "metadata": {},
   "source": [
    "$$ \\frac{d t_p}{d w} = t_u $$\n",
    "$$ \\frac{d t_p}{d b} = 1 $$"
   ]
  },
  {
   "cell_type": "code",
   "execution_count": 11,
   "metadata": {},
   "outputs": [],
   "source": [
    "def dmodel_dw(t_u, w, b):\n",
    "    derivative = t_u\n",
    "    return derivative"
   ]
  },
  {
   "cell_type": "code",
   "execution_count": 12,
   "metadata": {},
   "outputs": [],
   "source": [
    "def dmodel_db(t_u, w, b):\n",
    "    derivative = 1\n",
    "    return derivative"
   ]
  },
  {
   "cell_type": "markdown",
   "metadata": {},
   "source": [
    "Gradient Vector\n",
    "$$ \\vec{\\mathcal{G}} = \\nabla_{w,b}\\mathcal{L} = \\begin{pmatrix}\n",
    "\\frac{d \\mathcal{L}}{d w} \\\\\n",
    "\\\\\n",
    "\\frac{d \\mathcal{L}}{d b}\n",
    "\\end{pmatrix} = \\begin{pmatrix}\n",
    "\\frac{d \\mathcal{L}}{d t_p} \\frac{d t_p}{d w} \\\\\n",
    "\\\\\n",
    "\\frac{d \\mathcal{L}}{d t_p} \\frac{d t_p}{d b}\n",
    "\\end{pmatrix} $$"
   ]
  },
  {
   "cell_type": "code",
   "execution_count": 13,
   "metadata": {},
   "outputs": [],
   "source": [
    "def grad_fn(t_u, t_c, t_p, w, b):\n",
    "    dloss_dtp = dloss_fn(t_p, t_c)\n",
    "\n",
    "    dloss_dw = dloss_dtp * dmodel_dw(t_u, w, b)\n",
    "    dloss_db = dloss_dtp * dmodel_db(t_u, w, b)\n",
    "\n",
    "    grad_vec = torch.stack([dloss_dw.sum(), dloss_db.sum()])\n",
    "\n",
    "    return grad_vec"
   ]
  },
  {
   "cell_type": "code",
   "execution_count": 14,
   "metadata": {},
   "outputs": [
    {
     "name": "stdout",
     "output_type": "stream",
     "text": [
      "Gradient Vector: tensor([4517.2964,   82.6000])\n"
     ]
    }
   ],
   "source": [
    "print('Gradient Vector:', grad_fn(t_u, t_c, t_p, w, b))"
   ]
  },
  {
   "cell_type": "markdown",
   "metadata": {},
   "source": [
    "Update Rule\n",
    "$$ \\alpha \\rightarrow \\alpha - ( lr * \\vec{\\mathcal{G}} ) $$"
   ]
  },
  {
   "cell_type": "code",
   "execution_count": 15,
   "metadata": {},
   "outputs": [],
   "source": [
    "def training_loop(n_epochs, learning_rate, params, t_u, t_c):\n",
    "    for epoch in range(1, n_epochs+1):\n",
    "        w, b = params\n",
    "\n",
    "        t_p = model(t_u, w, b)\n",
    "        loss = loss_fn(t_p, t_c)\n",
    "        grad = grad_fn(t_u, t_c, t_p, w, b)\n",
    "\n",
    "        params = params - learning_rate * grad\n",
    "\n",
    "        if epoch <= 10 or epoch >= n_epochs-9:\n",
    "            print(f'Epoch: {epoch:3d}, Loss: {loss:.3f}')\n",
    "\n",
    "    return params"
   ]
  },
  {
   "cell_type": "code",
   "execution_count": 16,
   "metadata": {},
   "outputs": [
    {
     "name": "stdout",
     "output_type": "stream",
     "text": [
      "Epoch:   1, Loss: 1763.885\n",
      "Epoch:   2, Loss: 5802484.500\n",
      "Epoch:   3, Loss: 19408029696.000\n",
      "Epoch:   4, Loss: 64915905708032.000\n",
      "Epoch:   5, Loss: 217130525461053440.000\n",
      "Epoch:   6, Loss: 726257583152928129024.000\n",
      "Epoch:   7, Loss: 2429183416467662896627712.000\n",
      "Epoch:   8, Loss: 8125122549611731432050262016.000\n",
      "Epoch:   9, Loss: 27176882120842590626938030653440.000\n",
      "Epoch:  10, Loss: 90901105189019073810297959556841472.000\n",
      "Epoch:  91, Loss: nan\n",
      "Epoch:  92, Loss: nan\n",
      "Epoch:  93, Loss: nan\n",
      "Epoch:  94, Loss: nan\n",
      "Epoch:  95, Loss: nan\n",
      "Epoch:  96, Loss: nan\n",
      "Epoch:  97, Loss: nan\n",
      "Epoch:  98, Loss: nan\n",
      "Epoch:  99, Loss: nan\n",
      "Epoch: 100, Loss: nan\n"
     ]
    },
    {
     "data": {
      "text/plain": [
       "tensor([nan, nan])"
      ]
     },
     "execution_count": 16,
     "metadata": {},
     "output_type": "execute_result"
    }
   ],
   "source": [
    "training_loop(\n",
    "    n_epochs=100,\n",
    "    learning_rate=1e-2,\n",
    "    params = torch.tensor([1, 0]),\n",
    "    t_u = t_u,\n",
    "    t_c = t_c,\n",
    ")"
   ]
  },
  {
   "cell_type": "markdown",
   "metadata": {},
   "source": [
    "Where did it go wrong ?"
   ]
  },
  {
   "cell_type": "code",
   "execution_count": 17,
   "metadata": {},
   "outputs": [
    {
     "name": "stdout",
     "output_type": "stream",
     "text": [
      "Epoch:   1, Loss: 1763.885\n",
      "Epoch:   2, Loss: 323.091\n",
      "Epoch:   3, Loss: 78.930\n",
      "Epoch:   4, Loss: 37.553\n",
      "Epoch:   5, Loss: 30.540\n",
      "Epoch:   6, Loss: 29.351\n",
      "Epoch:   7, Loss: 29.149\n",
      "Epoch:   8, Loss: 29.114\n",
      "Epoch:   9, Loss: 29.107\n",
      "Epoch:  10, Loss: 29.105\n",
      "Epoch:  91, Loss: 29.031\n",
      "Epoch:  92, Loss: 29.030\n",
      "Epoch:  93, Loss: 29.029\n",
      "Epoch:  94, Loss: 29.028\n",
      "Epoch:  95, Loss: 29.027\n",
      "Epoch:  96, Loss: 29.026\n",
      "Epoch:  97, Loss: 29.025\n",
      "Epoch:  98, Loss: 29.024\n",
      "Epoch:  99, Loss: 29.024\n",
      "Epoch: 100, Loss: 29.023\n"
     ]
    },
    {
     "data": {
      "text/plain": [
       "tensor([ 0.2327, -0.0438])"
      ]
     },
     "execution_count": 17,
     "metadata": {},
     "output_type": "execute_result"
    }
   ],
   "source": [
    "training_loop(\n",
    "    n_epochs=100,\n",
    "    learning_rate=1e-4,\n",
    "    params = torch.tensor([1, 0]),\n",
    "    t_u = t_u,\n",
    "    t_c = t_c,\n",
    ")"
   ]
  },
  {
   "cell_type": "markdown",
   "metadata": {},
   "source": [
    "Why is Loss decreasing so slowly ?"
   ]
  },
  {
   "cell_type": "code",
   "execution_count": 18,
   "metadata": {},
   "outputs": [
    {
     "name": "stdout",
     "output_type": "stream",
     "text": [
      "Minimum value in t_u: tensor(21.8000)\n",
      "Maximum value in t_u: tensor(81.9000)\n",
      "Scaling Factor: tensor(0.0166)\n"
     ]
    }
   ],
   "source": [
    "print('Minimum value in t_u:', t_u.min())\n",
    "print('Maximum value in t_u:', t_u.max())\n",
    "\n",
    "scaling_factor = 1 / (t_u.max() - t_u.min())\n",
    "print('Scaling Factor:', scaling_factor)"
   ]
  },
  {
   "cell_type": "code",
   "execution_count": 19,
   "metadata": {},
   "outputs": [
    {
     "name": "stdout",
     "output_type": "stream",
     "text": [
      "Minimum value in t_u_n: tensor(0.3627)\n",
      "Maximum value in t_u_n: tensor(1.3627)\n"
     ]
    }
   ],
   "source": [
    "t_u_n = scaling_factor * t_u\n",
    "# t_u_n = 0.1 * t_u\n",
    "\n",
    "print('Minimum value in t_u_n:', t_u_n.min())\n",
    "print('Maximum value in t_u_n:', t_u_n.max())"
   ]
  },
  {
   "cell_type": "code",
   "execution_count": 20,
   "metadata": {},
   "outputs": [
    {
     "name": "stdout",
     "output_type": "stream",
     "text": [
      "Epoch:   1, Loss: 165.500\n",
      "Epoch:   2, Loss: 157.487\n",
      "Epoch:   3, Loss: 150.028\n",
      "Epoch:   4, Loss: 143.083\n",
      "Epoch:   5, Loss: 136.616\n",
      "Epoch:   6, Loss: 130.596\n",
      "Epoch:   7, Loss: 124.989\n",
      "Epoch:   8, Loss: 119.768\n",
      "Epoch:   9, Loss: 114.906\n",
      "Epoch:  10, Loss: 110.377\n",
      "Epoch:  91, Loss: 45.266\n",
      "Epoch:  92, Loss: 45.187\n",
      "Epoch:  93, Loss: 45.108\n",
      "Epoch:  94, Loss: 45.030\n",
      "Epoch:  95, Loss: 44.953\n",
      "Epoch:  96, Loss: 44.877\n",
      "Epoch:  97, Loss: 44.801\n",
      "Epoch:  98, Loss: 44.726\n",
      "Epoch:  99, Loss: 44.652\n",
      "Epoch: 100, Loss: 44.579\n"
     ]
    },
    {
     "data": {
      "text/plain": [
       "tensor([8.2098, 4.0016])"
      ]
     },
     "execution_count": 20,
     "metadata": {},
     "output_type": "execute_result"
    }
   ],
   "source": [
    "training_loop(\n",
    "    n_epochs=100,\n",
    "    learning_rate=1e-2,\n",
    "    params = torch.tensor([1, 0]),\n",
    "    t_u = t_u_n,\n",
    "    t_c = t_c,\n",
    ")"
   ]
  },
  {
   "cell_type": "code",
   "execution_count": 21,
   "metadata": {},
   "outputs": [
    {
     "name": "stdout",
     "output_type": "stream",
     "text": [
      "Epoch:   1, Loss: 165.500\n",
      "Epoch:   2, Loss: 157.487\n",
      "Epoch:   3, Loss: 150.028\n",
      "Epoch:   4, Loss: 143.083\n",
      "Epoch:   5, Loss: 136.616\n",
      "Epoch:   6, Loss: 130.596\n",
      "Epoch:   7, Loss: 124.989\n",
      "Epoch:   8, Loss: 119.768\n",
      "Epoch:   9, Loss: 114.906\n",
      "Epoch:  10, Loss: 110.377\n",
      "Epoch: 9991, Loss: 2.928\n",
      "Epoch: 9992, Loss: 2.928\n",
      "Epoch: 9993, Loss: 2.928\n",
      "Epoch: 9994, Loss: 2.928\n",
      "Epoch: 9995, Loss: 2.928\n",
      "Epoch: 9996, Loss: 2.928\n",
      "Epoch: 9997, Loss: 2.928\n",
      "Epoch: 9998, Loss: 2.928\n",
      "Epoch: 9999, Loss: 2.928\n",
      "Epoch: 10000, Loss: 2.928\n"
     ]
    },
    {
     "data": {
      "text/plain": [
       "tensor([ 32.2513, -17.2970])"
      ]
     },
     "execution_count": 21,
     "metadata": {},
     "output_type": "execute_result"
    }
   ],
   "source": [
    "params = training_loop(\n",
    "    n_epochs = 10000,\n",
    "    learning_rate = 1e-2,\n",
    "    params = torch.tensor([1, 0]),\n",
    "    t_u = t_u_n,\n",
    "    t_c = t_c,\n",
    ")\n",
    "params"
   ]
  },
  {
   "cell_type": "markdown",
   "metadata": {},
   "source": [
    "$$ Model \\rightarrow 0.5366 * t_c - 17.2970 $$\n",
    "$$ Actual \\rightarrow 0.5556 * t_c - 17.7778 $$"
   ]
  },
  {
   "cell_type": "code",
   "execution_count": 22,
   "metadata": {},
   "outputs": [
    {
     "data": {
      "image/png": "[encoded data removed]",
      "text/plain": [
       "<Figure size 600x400 with 1 Axes>"
      ]
     },
     "metadata": {},
     "output_type": "display_data"
    }
   ],
   "source": [
    "t_p = model(t_u_n, *params)\n",
    "\n",
    "plt.figure(figsize=(6, 4))\n",
    "plt.scatter(t_u, t_c, c='r')\n",
    "plt.plot(t_u, t_p)\n",
    "plt.xlabel('Temperature (Fahrenheit)')\n",
    "plt.ylabel('Temperature (Celsius)')\n",
    "plt.title('Scatter of $t_c$ vs $t_u$')\n",
    "plt.show()"
   ]
  },
  {
   "cell_type": "markdown",
   "metadata": {},
   "source": [
    "Magic of autograd"
   ]
  },
  {
   "cell_type": "code",
   "execution_count": 23,
   "metadata": {},
   "outputs": [
    {
     "name": "stdout",
     "output_type": "stream",
     "text": [
      "Gradients: None\n"
     ]
    }
   ],
   "source": [
    "params = torch.tensor([1, 0], dtype=torch.float, requires_grad=True)\n",
    "\n",
    "print('Gradients:', params.grad)"
   ]
  },
  {
   "cell_type": "code",
   "execution_count": 24,
   "metadata": {},
   "outputs": [],
   "source": [
    "t_p = model(t_u_n, *params)\n",
    "loss = loss_fn(t_p, t_c)\n",
    "loss.backward()"
   ]
  },
  {
   "cell_type": "code",
   "execution_count": 25,
   "metadata": {},
   "outputs": [
    {
     "name": "stdout",
     "output_type": "stream",
     "text": [
      "Gradients: tensor([-21.0722, -19.2762])\n"
     ]
    }
   ],
   "source": [
    "print('Gradients:', params.grad)"
   ]
  },
  {
   "cell_type": "markdown",
   "metadata": {},
   "source": [
    "PyTorch Optimizers"
   ]
  },
  {
   "cell_type": "code",
   "execution_count": 26,
   "metadata": {},
   "outputs": [],
   "source": [
    "from torch import optim"
   ]
  },
  {
   "cell_type": "code",
   "execution_count": 27,
   "metadata": {},
   "outputs": [],
   "source": [
    "params = torch.tensor([1, 0], dtype=torch.float, requires_grad=True)\n",
    "lr = 1e-2\n",
    "optimizer = optim.SGD([params], lr=lr)"
   ]
  },
  {
   "cell_type": "code",
   "execution_count": 28,
   "metadata": {},
   "outputs": [],
   "source": [
    "t_p = model(t_u_n, *params)\n",
    "loss = loss_fn(t_p, t_c)\n",
    "loss.backward()"
   ]
  },
  {
   "cell_type": "code",
   "execution_count": 29,
   "metadata": {},
   "outputs": [
    {
     "name": "stdout",
     "output_type": "stream",
     "text": [
      "Parameters: tensor([1., 0.], requires_grad=True)\n"
     ]
    }
   ],
   "source": [
    "print('Parameters:', params)"
   ]
  },
  {
   "cell_type": "code",
   "execution_count": 30,
   "metadata": {},
   "outputs": [],
   "source": [
    "optimizer.step()"
   ]
  },
  {
   "cell_type": "code",
   "execution_count": 31,
   "metadata": {},
   "outputs": [
    {
     "name": "stdout",
     "output_type": "stream",
     "text": [
      "Parameters: tensor([1.2107, 0.1928], requires_grad=True)\n"
     ]
    }
   ],
   "source": [
    "print('Parameters:', params)"
   ]
  },
  {
   "cell_type": "markdown",
   "metadata": {},
   "source": [
    "Final Training Loop"
   ]
  },
  {
   "cell_type": "code",
   "execution_count": 32,
   "metadata": {},
   "outputs": [],
   "source": [
    "def training_loop(n_epochs, optimizer, params, t_u, t_c):\n",
    "    for epoch in range(1, n_epochs+1):\n",
    "        t_p = model(t_u, *params)\n",
    "        loss = loss_fn(t_p, t_c)\n",
    "\n",
    "        optimizer.zero_grad()    # To zero out the gradients from previous epoch\n",
    "\n",
    "        loss.backward()    # Earlier --> grad = grad_fn(t_u, t_c, t_p, w, b)\n",
    "\n",
    "        optimizer.step()     # Earlier --> params = params - learning_rate * grad\n",
    "\n",
    "        if epoch <= 10 or epoch >= n_epochs-9:\n",
    "            print(f'Epoch: {epoch:3d}, Loss: {loss:.3f}')\n",
    "\n",
    "    return params"
   ]
  },
  {
   "cell_type": "code",
   "execution_count": 33,
   "metadata": {},
   "outputs": [
    {
     "name": "stdout",
     "output_type": "stream",
     "text": [
      "Epoch:   1, Loss: 165.500\n",
      "Epoch:   2, Loss: 157.487\n",
      "Epoch:   3, Loss: 150.028\n",
      "Epoch:   4, Loss: 143.083\n",
      "Epoch:   5, Loss: 136.616\n",
      "Epoch:   6, Loss: 130.596\n",
      "Epoch:   7, Loss: 124.989\n",
      "Epoch:   8, Loss: 119.768\n",
      "Epoch:   9, Loss: 114.906\n",
      "Epoch:  10, Loss: 110.377\n",
      "Epoch: 9991, Loss: 2.928\n",
      "Epoch: 9992, Loss: 2.928\n",
      "Epoch: 9993, Loss: 2.928\n",
      "Epoch: 9994, Loss: 2.928\n",
      "Epoch: 9995, Loss: 2.928\n",
      "Epoch: 9996, Loss: 2.928\n",
      "Epoch: 9997, Loss: 2.928\n",
      "Epoch: 9998, Loss: 2.928\n",
      "Epoch: 9999, Loss: 2.928\n",
      "Epoch: 10000, Loss: 2.928\n"
     ]
    },
    {
     "data": {
      "text/plain": [
       "tensor([ 32.2513, -17.2970], requires_grad=True)"
      ]
     },
     "execution_count": 33,
     "metadata": {},
     "output_type": "execute_result"
    }
   ],
   "source": [
    "params = torch.tensor([1, 0], dtype=torch.float, requires_grad=True)\n",
    "lr = 1e-2\n",
    "optimizer = optim.SGD([params], lr=lr)\n",
    "\n",
    "training_loop(\n",
    "    n_epochs = 10000,\n",
    "    optimizer = optimizer,\n",
    "    params = params,\n",
    "    t_u = t_u_n,\n",
    "    t_c = t_c\n",
    "    )"
   ]
  },
  {
   "cell_type": "code",
   "execution_count": 1,
   "metadata": {},
   "outputs": [
    {
     "data": {
      "text/plain": [
       "60.965224"
      ]
     },
     "execution_count": 1,
     "metadata": {},
     "output_type": "execute_result"
    }
   ],
   "source": [
    "60965224 / 1e6"
   ]
  },
  {
   "cell_type": "markdown",
   "metadata": {},
   "source": [
    "Validating the model's predictions"
   ]
  },
  {
   "cell_type": "code",
   "execution_count": 34,
   "metadata": {},
   "outputs": [
    {
     "data": {
      "text/plain": [
       "(tensor([ 9,  2, 10,  3,  7,  1,  6,  5,  8]), tensor([4, 0]))"
      ]
     },
     "execution_count": 34,
     "metadata": {},
     "output_type": "execute_result"
    }
   ],
   "source": [
    "n_samples = t_u.shape[0]\n",
    "n_val = int(0.2 * n_samples)\n",
    "shuffled_indices = torch.randperm(n_samples)\n",
    "\n",
    "train_indices = shuffled_indices[:-n_val]\n",
    "val_indices = shuffled_indices[-n_val:]\n",
    "\n",
    "train_indices, val_indices"
   ]
  },
  {
   "cell_type": "code",
   "execution_count": 35,
   "metadata": {},
   "outputs": [],
   "source": [
    "train_t_u = t_u[train_indices]\n",
    "train_t_c = t_c[train_indices]\n",
    "\n",
    "val_t_u = t_u[val_indices]\n",
    "val_t_c = t_c[val_indices]\n",
    "\n",
    "train_t_u_n = 0.1 * train_t_u\n",
    "val_t_u_n = 0.1 * val_t_u"
   ]
  },
  {
   "cell_type": "code",
   "execution_count": 36,
   "metadata": {},
   "outputs": [],
   "source": [
    "def calc_forward(t_u, t_c, is_train):\n",
    "    with torch.set_grad_enabled(is_train):\n",
    "        t_p = model(t_u, *params)\n",
    "        loss = loss_fn(t_p, t_c)\n",
    "\n",
    "    return loss\n",
    "\n",
    "def training_loop(n_epochs, optimizer, params, train_t_u, val_t_u, train_t_c, val_t_c):\n",
    "    for epoch in range(1, n_epochs+1):\n",
    "        train_loss = calc_forward(train_t_u, train_t_c, is_train=True)\n",
    "        \n",
    "        val_loss = calc_forward(val_t_u, val_t_c, is_train=False)\n",
    "\n",
    "        optimizer.zero_grad()    \n",
    "\n",
    "        train_loss.backward()    \n",
    "\n",
    "        optimizer.step()     \n",
    "\n",
    "        if epoch <= 10 or epoch >= n_epochs-9:\n",
    "            print(f'Epoch: {epoch:3d}, Train Loss: {train_loss:.3f}, Val Loss: {val_loss:.3f}')\n",
    "\n",
    "    return params"
   ]
  },
  {
   "cell_type": "code",
   "execution_count": 37,
   "metadata": {},
   "outputs": [
    {
     "name": "stdout",
     "output_type": "stream",
     "text": [
      "Epoch:   1, Train Loss: 93.972, Val Loss: 19.131\n",
      "Epoch:   2, Train Loss: 37.021, Val Loss: 20.674\n",
      "Epoch:   3, Train Loss: 29.493, Val Loss: 30.674\n",
      "Epoch:   4, Train Loss: 28.430, Val Loss: 35.467\n",
      "Epoch:   5, Train Loss: 28.213, Val Loss: 37.299\n",
      "Epoch:   6, Train Loss: 28.107, Val Loss: 37.920\n",
      "Epoch:   7, Train Loss: 28.015, Val Loss: 38.085\n",
      "Epoch:   8, Train Loss: 27.926, Val Loss: 38.084\n",
      "Epoch:   9, Train Loss: 27.837, Val Loss: 38.021\n",
      "Epoch:  10, Train Loss: 27.749, Val Loss: 37.938\n",
      "Epoch: 9991, Train Loss: 2.820, Val Loss: 4.243\n",
      "Epoch: 9992, Train Loss: 2.820, Val Loss: 4.243\n",
      "Epoch: 9993, Train Loss: 2.820, Val Loss: 4.243\n",
      "Epoch: 9994, Train Loss: 2.820, Val Loss: 4.243\n",
      "Epoch: 9995, Train Loss: 2.820, Val Loss: 4.243\n",
      "Epoch: 9996, Train Loss: 2.820, Val Loss: 4.243\n",
      "Epoch: 9997, Train Loss: 2.820, Val Loss: 4.243\n",
      "Epoch: 9998, Train Loss: 2.820, Val Loss: 4.243\n",
      "Epoch: 9999, Train Loss: 2.820, Val Loss: 4.243\n",
      "Epoch: 10000, Train Loss: 2.820, Val Loss: 4.243\n"
     ]
    },
    {
     "data": {
      "text/plain": [
       "tensor([  5.2988, -16.5753], requires_grad=True)"
      ]
     },
     "execution_count": 37,
     "metadata": {},
     "output_type": "execute_result"
    }
   ],
   "source": [
    "params = torch.tensor([1, 0], dtype=torch.float, requires_grad=True)\n",
    "lr = 1e-2\n",
    "optimizer = optim.SGD([params], lr=lr)\n",
    "\n",
    "training_loop(\n",
    "    n_epochs = 10000,\n",
    "    optimizer = optimizer,\n",
    "    params = params,\n",
    "    train_t_u = train_t_u_n,\n",
    "    val_t_u = val_t_u_n,\n",
    "    train_t_c = train_t_c,\n",
    "    val_t_c = val_t_c\n",
    "    )"
   ]
  },
  {
   "cell_type": "code",
   "execution_count": null,
   "metadata": {},
   "outputs": [],
   "source": []
  }
 ],
 "metadata": {
  "kernelspec": {
   "display_name": "torch-gpu",
   "language": "python",
   "name": "python3"
  },
  "language_info": {
   "codemirror_mode": {
    "name": "ipython",
    "version": 3
   },
   "file_extension": ".py",
   "mimetype": "text/x-python",
   "name": "python",
   "nbconvert_exporter": "python",
   "pygments_lexer": "ipython3",
   "version": "3.10.13"
  }
 },
 "nbformat": 4,
 "nbformat_minor": 2
}
